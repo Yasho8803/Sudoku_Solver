{
 "cells": [
  {
   "cell_type": "code",
   "execution_count": 184,
   "id": "9201b943",
   "metadata": {},
   "outputs": [],
   "source": [
    "import cv2\n",
    "import numpy as np\n",
    "from tensorflow.keras.models import load_model"
   ]
  },
  {
   "cell_type": "code",
   "execution_count": 185,
   "id": "3a6ce18d",
   "metadata": {},
   "outputs": [],
   "source": [
    "model = model = load_model('models/cnn_digits_full_dataset.keras')"
   ]
  },
  {
   "cell_type": "code",
   "execution_count": 186,
   "id": "ba69596b",
   "metadata": {},
   "outputs": [],
   "source": [
    "image = cv2.imread(\"sudoku_extracted.png\")"
   ]
  },
  {
   "cell_type": "code",
   "execution_count": 187,
   "id": "62a90701",
   "metadata": {},
   "outputs": [],
   "source": [
    "def split_cells(image):\n",
    "    cells = []\n",
    "    edge = 450 // 9  # 50 pixels per cell in 450x450 image\n",
    "    for y in range(9):\n",
    "        for x in range(9):\n",
    "            x1, y1 = x * edge, y * edge\n",
    "            cell = image[y1:y1+edge, x1:x1+edge]\n",
    "            cells.append(cell)\n",
    "    return cells"
   ]
  },
  {
   "cell_type": "code",
   "execution_count": 188,
   "id": "8b233ca3",
   "metadata": {},
   "outputs": [],
   "source": [
    "# image = cv2.imread(\"sudoku_extracted.png\")\n",
    "# cells = split_cells(image)\n",
    "\n",
    "# for idx, cell in enumerate(cells):\n",
    "#     cv2.imshow(f\"Cell {idx}\", cell)\n",
    "#     print(f\"Showing Cell {idx}\")\n",
    "#     cv2.waitKey(0)\n",
    "#     cv2.destroyAllWindows()\n",
    "# # The code above loads a pre-trained CNN model and splits a Sudoku puzzle image into its individual cells.\n",
    "# # Each cell is displayed one by one in a window."
   ]
  },
  {
   "cell_type": "code",
   "execution_count": 189,
   "id": "0c77e163",
   "metadata": {},
   "outputs": [],
   "source": [
    "def preprocess_cell(cell):\n",
    "    gray = cv2.cvtColor(cell, cv2.COLOR_BGR2GRAY)\n",
    "    _, thresh = cv2.threshold(gray, 180, 255, cv2.THRESH_BINARY)\n",
    "    \n",
    "    black_pixels = thresh.shape[0] * thresh.shape[1] - cv2.countNonZero(thresh)\n",
    "    if black_pixels < 50:\n",
    "        return None\n",
    "\n",
    "\n",
    "    contours, _ = cv2.findContours(thresh, cv2.RETR_EXTERNAL, cv2.CHAIN_APPROX_SIMPLE)\n",
    "    if not contours:\n",
    "        return None\n",
    "\n",
    "    c = max(contours, key=cv2.contourArea)\n",
    "    x, y, w, h = cv2.boundingRect(c)\n",
    "    digit_roi = thresh[y:y + h, x:x + w]\n",
    "\n",
    "    padded = cv2.copyMakeBorder(digit_roi, 10, 10, 10, 10, cv2.BORDER_CONSTANT, value=255)\n",
    "    resized = cv2.resize(padded, (28, 28))\n",
    "    normalized = resized / 255.0\n",
    "    reshaped = normalized.reshape(1, 28, 28, 1)\n",
    "    return reshaped"
   ]
  },
  {
   "cell_type": "code",
   "execution_count": 190,
   "id": "2bcdb13a",
   "metadata": {},
   "outputs": [],
   "source": [
    "# # We will see the cells one by one, preprocess them, and display the processed images.\n",
    "\n",
    "\n",
    "# cells = split_cells(image)\n",
    "\n",
    "# for idx, cell in enumerate(cells):\n",
    "#     processed = preprocess_cell(cell)\n",
    "\n",
    "#     if processed is not None:\n",
    "#         digit_img = (processed[0] * 255).astype(\"uint8\").reshape(28, 28)  # Undo normalization\n",
    "#         cv2.imshow(f\"Cell {idx}\", digit_img)\n",
    "#     else:\n",
    "#         print(f\"Cell {idx}: Empty or Unreadable\")\n",
    "\n",
    "#     key = cv2.waitKey(0)\n",
    "#     if key == ord('q'):\n",
    "#         break\n",
    "\n",
    "# cv2.destroyAllWindows()\n"
   ]
  },
  {
   "cell_type": "code",
   "execution_count": null,
   "id": "5d73efa1",
   "metadata": {},
   "outputs": [],
   "source": [
    "def recognize_digits(image_path):\n",
    "    board = np.zeros((9, 9), dtype=int)\n",
    "    image = cv2.imread(image_path)\n",
    "    cells = split_cells(image)\n",
    "\n",
    "    for idx, cell in enumerate(cells):\n",
    "        processed = preprocess_cell(cell)\n",
    "        row, col = divmod(idx, 9)\n",
    "\n",
    "        if processed is not None:\n",
    "            pred = model.predict(processed, verbose=0)\n",
    "            digit_class = np.argmax(pred)\n",
    "            board[row, col] = digit_class  # Map class 0→digit 1, ..., class 8→digit 9\n",
    "        else:\n",
    "            continue\n",
    "    return board\n"
   ]
  },
  {
   "cell_type": "code",
   "execution_count": 196,
   "id": "06f39fdc",
   "metadata": {},
   "outputs": [
    {
     "name": "stdout",
     "output_type": "stream",
     "text": [
      "[[3 4 1 8 1 1 4 1 2]\n",
      " [2 7 1 6 3 6 6 1 7]\n",
      " [2 6 4 2 1 4 1 1 1]\n",
      " [8 1 9 4 1 3 1 1 9]\n",
      " [2 8 7 7 1 1 1 5 1]\n",
      " [7 7 2 4 1 3 4 1 8]\n",
      " [7 1 7 5 1 8 1 1 1]\n",
      " [8 4 4 6 8 7 7 1 5]\n",
      " [6 1 6 3 1 7 1 4 3]]\n"
     ]
    }
   ],
   "source": [
    "grid = recognize_digits(\"sudoku_extracted.png\")\n",
    "print(grid)"
   ]
  },
  {
   "cell_type": "code",
   "execution_count": 152,
   "id": "85a3d714",
   "metadata": {},
   "outputs": [],
   "source": [
    "# #Testing on a single cell\n",
    "\n",
    "# import cv2\n",
    "# import numpy as np\n",
    "\n",
    "# # Load image\n",
    "# image = cv2.imread(\"sudoku_extracted.png\")\n",
    "\n",
    "# # Split cells\n",
    "# cells = split_cells(image)\n",
    "\n",
    "# # Select any one cell — for example, top-left cell (0, 0)\n",
    "# cell = cells[3]\n",
    "\n",
    "# # Preprocess it\n",
    "# processed = preprocess_cell(cell)\n",
    "\n",
    "# # Show the preprocessed cell\n",
    "# if processed is not None:\n",
    "#     cv2.imshow(\"Preprocessed Cell\", processed.reshape(28, 28))\n",
    "#     cv2.waitKey(0)\n",
    "#     cv2.destroyAllWindows()\n",
    "\n",
    "#     # Predict\n",
    "#     pred = model.predict(processed, verbose=0)\n",
    "#     digit = int(np.argmax(pred))\n",
    "#     confidence = float(np.max(pred))\n",
    "\n",
    "#     print(\"Predicted Digit:\", digit)  # Adding 1 to match the digit (0-9) to (1-9)\n",
    "#     print(\"Confidence:\", round(confidence, 3))\n",
    "# else:\n",
    "#     print(\"Digit could not be detected in this cell.\")\n"
   ]
  },
  {
   "cell_type": "code",
   "execution_count": null,
   "id": "819e75ba",
   "metadata": {},
   "outputs": [],
   "source": []
  },
  {
   "cell_type": "code",
   "execution_count": null,
   "id": "4b962043",
   "metadata": {},
   "outputs": [],
   "source": []
  }
 ],
 "metadata": {
  "kernelspec": {
   "display_name": "t_flow",
   "language": "python",
   "name": "python3"
  },
  "language_info": {
   "codemirror_mode": {
    "name": "ipython",
    "version": 3
   },
   "file_extension": ".py",
   "mimetype": "text/x-python",
   "name": "python",
   "nbconvert_exporter": "python",
   "pygments_lexer": "ipython3",
   "version": "3.11.9"
  }
 },
 "nbformat": 4,
 "nbformat_minor": 5
}
