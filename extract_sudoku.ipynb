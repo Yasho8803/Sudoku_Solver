{
 "cells": [
  {
   "cell_type": "code",
   "execution_count": 2,
   "id": "920d0afa",
   "metadata": {},
   "outputs": [],
   "source": [
    "import cv2\n",
    "import numpy as np"
   ]
  },
  {
   "cell_type": "code",
   "execution_count": 3,
   "id": "a3c212d2",
   "metadata": {},
   "outputs": [],
   "source": [
    "def preprocess_image(img):\n",
    "    gray = cv2.cvtColor(img, cv2.COLOR_BGR2GRAY)\n",
    "    blur = cv2.GaussianBlur(gray, (9, 9), 0)\n",
    "    thresh = cv2.adaptiveThreshold(\n",
    "        blur, 255, cv2.ADAPTIVE_THRESH_GAUSSIAN_C, \n",
    "        cv2.THRESH_BINARY_INV, 11, 2\n",
    "    )\n",
    "    return thresh"
   ]
  },
  {
   "cell_type": "code",
   "execution_count": 4,
   "id": "12fefc04",
   "metadata": {},
   "outputs": [],
   "source": [
    "\n",
    "def find_largest_contour(thresh):\n",
    "    contours, _ = cv2.findContours(thresh, cv2.RETR_EXTERNAL, cv2.CHAIN_APPROX_SIMPLE)\n",
    "    max_area = 0\n",
    "    best_cnt = None\n",
    "\n",
    "    for cnt in contours:\n",
    "        area = cv2.contourArea(cnt)\n",
    "        if area > 1000:\n",
    "            peri = cv2.arcLength(cnt, True)\n",
    "            approx = cv2.approxPolyDP(cnt, 0.02 * peri, True)\n",
    "            if area > max_area and len(approx) == 4:\n",
    "                best_cnt = approx\n",
    "                max_area = area\n",
    "    return best_cnt"
   ]
  },
  {
   "cell_type": "code",
   "execution_count": 5,
   "id": "2a8e4262",
   "metadata": {},
   "outputs": [],
   "source": [
    "def reorder(points):\n",
    "    points = points.reshape((4, 2))\n",
    "    new_points = np.zeros((4, 2), dtype=np.float32)\n",
    "\n",
    "    sum_pts = points.sum(1)\n",
    "    diff_pts = np.diff(points, axis=1)\n",
    "\n",
    "    new_points[0] = points[np.argmin(sum_pts)]  # top-left\n",
    "    new_points[2] = points[np.argmax(sum_pts)]  # bottom-right\n",
    "    new_points[1] = points[np.argmin(diff_pts)]  # top-right\n",
    "    new_points[3] = points[np.argmax(diff_pts)]  # bottom-left\n",
    "\n",
    "    return new_points"
   ]
  },
  {
   "cell_type": "code",
   "execution_count": 6,
   "id": "a91bc3f6",
   "metadata": {},
   "outputs": [],
   "source": [
    "def warp_perspective(img, points):\n",
    "    ordered = reorder(points)\n",
    "    dst = np.array([[0,0],[450,0],[450,450],[0,450]], dtype=np.float32)\n",
    "    matrix = cv2.getPerspectiveTransform(ordered, dst)\n",
    "    warped = cv2.warpPerspective(img, matrix, (450, 450))\n",
    "    return warped"
   ]
  },
  {
   "cell_type": "code",
   "execution_count": 7,
   "id": "c32187fe",
   "metadata": {},
   "outputs": [
    {
     "name": "stdout",
     "output_type": "stream",
     "text": [
      "📸 Press SPACE to capture the Sudoku grid...\n",
      "⚠️ Couldn't detect a proper Sudoku grid.\n"
     ]
    }
   ],
   "source": [
    "def capture_and_extract():\n",
    "    cap = cv2.VideoCapture(0)\n",
    "    print(\"📸 Press SPACE to capture the Sudoku grid...\")\n",
    "    \n",
    "    while True:\n",
    "        ret, frame = cap.read()\n",
    "        if not ret:\n",
    "            print(\"❌ Failed to access webcam.\")\n",
    "            break\n",
    "        \n",
    "        cv2.imshow(\"Sudoku Capture\", frame)\n",
    "        key = cv2.waitKey(1)\n",
    "\n",
    "        if key == 32:  # SPACE key\n",
    "            thresh = preprocess_image(frame)\n",
    "            grid_contour = find_largest_contour(thresh)\n",
    "\n",
    "            if grid_contour is not None:\n",
    "                warped = warp_perspective(frame, grid_contour)\n",
    "                cv2.imwrite(\"sudoku_extracted.png\", warped)\n",
    "                print(\"✅ Sudoku grid extracted and saved as 'sudoku_extracted.png'\")\n",
    "                cv2.imshow(\"Extracted Grid\", warped)\n",
    "                cv2.waitKey(0)\n",
    "            else:\n",
    "                print(\"⚠️ Couldn't detect a proper Sudoku grid.\")\n",
    "            break\n",
    "\n",
    "        elif key == 27:  # ESC key\n",
    "            break\n",
    "\n",
    "    cap.release()\n",
    "    cv2.destroyAllWindows()\n",
    "\n",
    "if __name__ == \"__main__\":\n",
    "    capture_and_extract()"
   ]
  },
  {
   "cell_type": "code",
   "execution_count": null,
   "id": "88a7a87f",
   "metadata": {},
   "outputs": [],
   "source": []
  }
 ],
 "metadata": {
  "kernelspec": {
   "display_name": "t_flow",
   "language": "python",
   "name": "python3"
  },
  "language_info": {
   "codemirror_mode": {
    "name": "ipython",
    "version": 3
   },
   "file_extension": ".py",
   "mimetype": "text/x-python",
   "name": "python",
   "nbconvert_exporter": "python",
   "pygments_lexer": "ipython3",
   "version": "3.11.9"
  }
 },
 "nbformat": 4,
 "nbformat_minor": 5
}
