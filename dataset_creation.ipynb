{
 "cells": [
  {
   "cell_type": "code",
   "execution_count": 1,
   "id": "8bb3d33a",
   "metadata": {},
   "outputs": [],
   "source": [
    "from tensorflow.keras.datasets import mnist\n",
    "import numpy as np\n",
    "import cv2\n",
    "import os\n",
    "\n",
    "(x_train, y_train), (_, _) = mnist.load_data()"
   ]
  },
  {
   "cell_type": "code",
   "execution_count": null,
   "id": "41108110",
   "metadata": {},
   "outputs": [],
   "source": [
    "# os.makedirs(\"printed_digits_with_mnist\", exist_ok=True)\n",
    "\n",
    "# for i in range(10):\n",
    "#     os.makedirs(f\"printed_digits_with_mnist/{i}\", exist_ok=True)"
   ]
  },
  {
   "cell_type": "code",
   "execution_count": 3,
   "id": "f5009ad5",
   "metadata": {},
   "outputs": [],
   "source": [
    "count_per_class = [0]*10  # to limit how many images you add per digit\n",
    "\n",
    "for idx, (img, label) in enumerate(zip(x_train, y_train)):\n",
    "    if count_per_class[label] >= 2000:  # limit to avoid imbalance (adjust as needed)\n",
    "        continue\n",
    "\n",
    "    # Convert to correct format\n",
    "    img = cv2.resize(img, (28, 28))\n",
    "    save_path = f\"printed_digits/{label}/{label}_mnist_{count_per_class[label]}.png\"\n",
    "    cv2.imwrite(save_path, img)\n",
    "    count_per_class[label] += 1"
   ]
  },
  {
   "cell_type": "code",
   "execution_count": 4,
   "id": "5bcc718b",
   "metadata": {},
   "outputs": [
    {
     "name": "stdout",
     "output_type": "stream",
     "text": [
      "✅ All matching MNIST images inverted to black digits on white background.\n"
     ]
    }
   ],
   "source": [
    "import os\n",
    "import cv2\n",
    "\n",
    "dataset_path = \"printed_digits\"  # Your dataset directory\n",
    "\n",
    "for digit in range(10):\n",
    "    digit_dir = os.path.join(dataset_path, str(digit))\n",
    "    \n",
    "    if not os.path.isdir(digit_dir):\n",
    "        continue\n",
    "    \n",
    "    for fname in os.listdir(digit_dir):\n",
    "        if \"_mnist_\" in fname.lower() and fname.lower().endswith(\".png\"):\n",
    "            img_path = os.path.join(digit_dir, fname)\n",
    "\n",
    "            # Load image\n",
    "            img = cv2.imread(img_path, cv2.IMREAD_GRAYSCALE)\n",
    "            if img is None:\n",
    "                continue\n",
    "\n",
    "            # Invert image (white bg, black digit)\n",
    "            inverted = 255 - img\n",
    "\n",
    "            # Save back (overwrite)\n",
    "            cv2.imwrite(img_path, inverted)\n",
    "\n",
    "print(\"✅ All matching MNIST images inverted to black digits on white background.\")\n"
   ]
  },
  {
   "cell_type": "code",
   "execution_count": null,
   "id": "86d6c701",
   "metadata": {},
   "outputs": [],
   "source": []
  }
 ],
 "metadata": {
  "kernelspec": {
   "display_name": "t_flow",
   "language": "python",
   "name": "python3"
  },
  "language_info": {
   "codemirror_mode": {
    "name": "ipython",
    "version": 3
   },
   "file_extension": ".py",
   "mimetype": "text/x-python",
   "name": "python",
   "nbconvert_exporter": "python",
   "pygments_lexer": "ipython3",
   "version": "3.11.9"
  }
 },
 "nbformat": 4,
 "nbformat_minor": 5
}
